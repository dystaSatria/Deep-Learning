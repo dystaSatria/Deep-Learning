{
  "nbformat": 4,
  "nbformat_minor": 0,
  "metadata": {
    "colab": {
      "provenance": []
    },
    "kernelspec": {
      "name": "python3",
      "display_name": "Python 3"
    },
    "language_info": {
      "name": "python"
    }
  },
  "cells": [
    {
      "cell_type": "code",
      "execution_count": 5,
      "metadata": {
        "colab": {
          "base_uri": "https://localhost:8080/"
        },
        "id": "rFAXX9UQMPH0",
        "outputId": "f6ae49e9-9ea5-48ba-ab88-9aaaa7c01c38"
      },
      "outputs": [
        {
          "output_type": "stream",
          "name": "stdout",
          "text": [
            "Drive already mounted at /gdrive; to attempt to forcibly remount, call drive.mount(\"/gdrive\", force_remount=True).\n"
          ]
        }
      ],
      "source": [
        "from google.colab import drive\n",
        "drive.mount('/gdrive')"
      ]
    },
    {
      "cell_type": "code",
      "source": [
        "import pandas as pd\n",
        "import seaborn as sns\n",
        "import numpy as np\n",
        "import matplotlib.pyplot as plt"
      ],
      "metadata": {
        "id": "xfooUC8vMcmG"
      },
      "execution_count": 6,
      "outputs": []
    },
    {
      "cell_type": "code",
      "source": [
        "data = pd.read_csv('/content/Customer_Churn_Analysis.csv')"
      ],
      "metadata": {
        "id": "fWrnzrIHMgnm"
      },
      "execution_count": 7,
      "outputs": []
    },
    {
      "cell_type": "code",
      "source": [
        "import tensorflow as tf\n",
        "from sklearn.model_selection import train_test_split\n",
        "from sklearn.preprocessing import StandardScaler\n",
        "from sklearn.metrics import accuracy_score, precision_score, recall_score, f1_score, confusion_matrix, classification_report"
      ],
      "metadata": {
        "id": "ReBUfc65MRug"
      },
      "execution_count": 8,
      "outputs": []
    },
    {
      "cell_type": "code",
      "source": [
        "data = data.drop(['RowNumber', 'CustomerId', 'Surname', 'Tenure', 'Complain', 'Satisfaction_Score', 'Card_Type'], axis=1)\n",
        "data['Geography'] = data['Geography'].astype('category')\n",
        "data['Gender'] = data['Gender'].astype('category')"
      ],
      "metadata": {
        "id": "NdgKYxCXMRxI"
      },
      "execution_count": 9,
      "outputs": []
    },
    {
      "cell_type": "code",
      "source": [
        "encoded_data = pd.get_dummies(data, columns=['Geography', 'Gender'], drop_first=True)\n",
        "selected_features = encoded_data.drop(['Exited'], axis=1)\n",
        "target_variable = encoded_data['Exited']"
      ],
      "metadata": {
        "id": "dd0a8gjbMmoH"
      },
      "execution_count": 10,
      "outputs": []
    },
    {
      "cell_type": "code",
      "source": [
        "scaler = StandardScaler()\n",
        "scaled_data = scaler.fit_transform(selected_features)"
      ],
      "metadata": {
        "id": "AhM0AYgJMqKR"
      },
      "execution_count": 11,
      "outputs": []
    },
    {
      "cell_type": "code",
      "source": [
        "X_train , X_test, y_train , y_test = train_test_split(selected_features, target_variable, test_size=0.2, random_state= 42)"
      ],
      "metadata": {
        "id": "AaKuDdhxfJSk"
      },
      "execution_count": 13,
      "outputs": []
    },
    {
      "cell_type": "code",
      "source": [
        "#Yapay sınır ağları\n",
        "model = tf.keras.models.Sequential([\n",
        "    tf.keras.layers.Dense(16, input_shape=(X_train.shape[1],), activation='tanh'),\n",
        "    tf.keras.layers.Dense(8, activation='tanh'),\n",
        "    tf.keras.layers.Dense(1, activation='sigmoid')\n",
        "])\n",
        "\n",
        "model.compile(optimizer=\"adam\",loss='binary_crossentropy', metrics=['accuracy'])"
      ],
      "metadata": {
        "id": "Iq2QV8trgM99"
      },
      "execution_count": 15,
      "outputs": []
    },
    {
      "cell_type": "code",
      "source": [
        "model.fit(X_train,y_train,epochs=50,batch_size=32,validation_data=(X_test,y_test))"
      ],
      "metadata": {
        "colab": {
          "base_uri": "https://localhost:8080/"
        },
        "id": "8dPN9dRAjPPZ",
        "outputId": "4ab97cfa-2759-4bf8-bd13-a1487c381c80"
      },
      "execution_count": 16,
      "outputs": [
        {
          "output_type": "stream",
          "name": "stdout",
          "text": [
            "Epoch 1/50\n",
            "250/250 [==============================] - 2s 4ms/step - loss: 0.5262 - accuracy: 0.7709 - val_loss: 0.4926 - val_accuracy: 0.8035\n",
            "Epoch 2/50\n",
            "250/250 [==============================] - 1s 2ms/step - loss: 0.5024 - accuracy: 0.7944 - val_loss: 0.4939 - val_accuracy: 0.8035\n",
            "Epoch 3/50\n",
            "250/250 [==============================] - 1s 5ms/step - loss: 0.5024 - accuracy: 0.7944 - val_loss: 0.4900 - val_accuracy: 0.8035\n",
            "Epoch 4/50\n",
            "250/250 [==============================] - 1s 5ms/step - loss: 0.5021 - accuracy: 0.7944 - val_loss: 0.4897 - val_accuracy: 0.8035\n",
            "Epoch 5/50\n",
            "250/250 [==============================] - 1s 2ms/step - loss: 0.5017 - accuracy: 0.7944 - val_loss: 0.4898 - val_accuracy: 0.8035\n",
            "Epoch 6/50\n",
            "250/250 [==============================] - 1s 3ms/step - loss: 0.5014 - accuracy: 0.7944 - val_loss: 0.4904 - val_accuracy: 0.8035\n",
            "Epoch 7/50\n",
            "250/250 [==============================] - 1s 3ms/step - loss: 0.5014 - accuracy: 0.7944 - val_loss: 0.4890 - val_accuracy: 0.8035\n",
            "Epoch 8/50\n",
            "250/250 [==============================] - 1s 2ms/step - loss: 0.5016 - accuracy: 0.7944 - val_loss: 0.4901 - val_accuracy: 0.8035\n",
            "Epoch 9/50\n",
            "250/250 [==============================] - 1s 3ms/step - loss: 0.5015 - accuracy: 0.7944 - val_loss: 0.4909 - val_accuracy: 0.8035\n",
            "Epoch 10/50\n",
            "250/250 [==============================] - 1s 3ms/step - loss: 0.5012 - accuracy: 0.7944 - val_loss: 0.4890 - val_accuracy: 0.8035\n",
            "Epoch 11/50\n",
            "250/250 [==============================] - 1s 3ms/step - loss: 0.5011 - accuracy: 0.7944 - val_loss: 0.4888 - val_accuracy: 0.8035\n",
            "Epoch 12/50\n",
            "250/250 [==============================] - 1s 3ms/step - loss: 0.5012 - accuracy: 0.7944 - val_loss: 0.4891 - val_accuracy: 0.8035\n",
            "Epoch 13/50\n",
            "250/250 [==============================] - 1s 3ms/step - loss: 0.5012 - accuracy: 0.7944 - val_loss: 0.4886 - val_accuracy: 0.8035\n",
            "Epoch 14/50\n",
            "250/250 [==============================] - 1s 4ms/step - loss: 0.5011 - accuracy: 0.7944 - val_loss: 0.4888 - val_accuracy: 0.8035\n",
            "Epoch 15/50\n",
            "250/250 [==============================] - 1s 3ms/step - loss: 0.5010 - accuracy: 0.7944 - val_loss: 0.4889 - val_accuracy: 0.8035\n",
            "Epoch 16/50\n",
            "250/250 [==============================] - 1s 3ms/step - loss: 0.5007 - accuracy: 0.7944 - val_loss: 0.4912 - val_accuracy: 0.8035\n",
            "Epoch 17/50\n",
            "250/250 [==============================] - 1s 3ms/step - loss: 0.5010 - accuracy: 0.7944 - val_loss: 0.4888 - val_accuracy: 0.8035\n",
            "Epoch 18/50\n",
            "250/250 [==============================] - 1s 4ms/step - loss: 0.5009 - accuracy: 0.7944 - val_loss: 0.4889 - val_accuracy: 0.8035\n",
            "Epoch 19/50\n",
            "250/250 [==============================] - 1s 3ms/step - loss: 0.5011 - accuracy: 0.7944 - val_loss: 0.4891 - val_accuracy: 0.8035\n",
            "Epoch 20/50\n",
            "250/250 [==============================] - 1s 4ms/step - loss: 0.5009 - accuracy: 0.7944 - val_loss: 0.4888 - val_accuracy: 0.8035\n",
            "Epoch 21/50\n",
            "250/250 [==============================] - 1s 3ms/step - loss: 0.5013 - accuracy: 0.7944 - val_loss: 0.4888 - val_accuracy: 0.8035\n",
            "Epoch 22/50\n",
            "250/250 [==============================] - 1s 3ms/step - loss: 0.5010 - accuracy: 0.7944 - val_loss: 0.4893 - val_accuracy: 0.8035\n",
            "Epoch 23/50\n",
            "250/250 [==============================] - 1s 2ms/step - loss: 0.5009 - accuracy: 0.7944 - val_loss: 0.4887 - val_accuracy: 0.8035\n",
            "Epoch 24/50\n",
            "250/250 [==============================] - 1s 2ms/step - loss: 0.5009 - accuracy: 0.7944 - val_loss: 0.4893 - val_accuracy: 0.8035\n",
            "Epoch 25/50\n",
            "250/250 [==============================] - 1s 2ms/step - loss: 0.5011 - accuracy: 0.7944 - val_loss: 0.4904 - val_accuracy: 0.8035\n",
            "Epoch 26/50\n",
            "250/250 [==============================] - 1s 3ms/step - loss: 0.5011 - accuracy: 0.7944 - val_loss: 0.4890 - val_accuracy: 0.8035\n",
            "Epoch 27/50\n",
            "250/250 [==============================] - 1s 2ms/step - loss: 0.5009 - accuracy: 0.7944 - val_loss: 0.4891 - val_accuracy: 0.8035\n",
            "Epoch 28/50\n",
            "250/250 [==============================] - 1s 3ms/step - loss: 0.5007 - accuracy: 0.7944 - val_loss: 0.4887 - val_accuracy: 0.8035\n",
            "Epoch 29/50\n",
            "250/250 [==============================] - 1s 3ms/step - loss: 0.5010 - accuracy: 0.7944 - val_loss: 0.4902 - val_accuracy: 0.8035\n",
            "Epoch 30/50\n",
            "250/250 [==============================] - 1s 2ms/step - loss: 0.5010 - accuracy: 0.7944 - val_loss: 0.4913 - val_accuracy: 0.8035\n",
            "Epoch 31/50\n",
            "250/250 [==============================] - 1s 3ms/step - loss: 0.5009 - accuracy: 0.7944 - val_loss: 0.4911 - val_accuracy: 0.8035\n",
            "Epoch 32/50\n",
            "250/250 [==============================] - 1s 2ms/step - loss: 0.5008 - accuracy: 0.7944 - val_loss: 0.4902 - val_accuracy: 0.8035\n",
            "Epoch 33/50\n",
            "250/250 [==============================] - 1s 3ms/step - loss: 0.5008 - accuracy: 0.7944 - val_loss: 0.4899 - val_accuracy: 0.8035\n",
            "Epoch 34/50\n",
            "250/250 [==============================] - 1s 2ms/step - loss: 0.5007 - accuracy: 0.7944 - val_loss: 0.4895 - val_accuracy: 0.8035\n",
            "Epoch 35/50\n",
            "250/250 [==============================] - 1s 3ms/step - loss: 0.5011 - accuracy: 0.7944 - val_loss: 0.4895 - val_accuracy: 0.8035\n",
            "Epoch 36/50\n",
            "250/250 [==============================] - 1s 3ms/step - loss: 0.5009 - accuracy: 0.7944 - val_loss: 0.4895 - val_accuracy: 0.8035\n",
            "Epoch 37/50\n",
            "250/250 [==============================] - 1s 3ms/step - loss: 0.5008 - accuracy: 0.7944 - val_loss: 0.4897 - val_accuracy: 0.8035\n",
            "Epoch 38/50\n",
            "250/250 [==============================] - 1s 4ms/step - loss: 0.5008 - accuracy: 0.7944 - val_loss: 0.4905 - val_accuracy: 0.8035\n",
            "Epoch 39/50\n",
            "250/250 [==============================] - 1s 3ms/step - loss: 0.5009 - accuracy: 0.7944 - val_loss: 0.4897 - val_accuracy: 0.8035\n",
            "Epoch 40/50\n",
            "250/250 [==============================] - 1s 3ms/step - loss: 0.5008 - accuracy: 0.7944 - val_loss: 0.4896 - val_accuracy: 0.8035\n",
            "Epoch 41/50\n",
            "250/250 [==============================] - 1s 4ms/step - loss: 0.5005 - accuracy: 0.7944 - val_loss: 0.4895 - val_accuracy: 0.8035\n",
            "Epoch 42/50\n",
            "250/250 [==============================] - 1s 3ms/step - loss: 0.5004 - accuracy: 0.7944 - val_loss: 0.4903 - val_accuracy: 0.8035\n",
            "Epoch 43/50\n",
            "250/250 [==============================] - 1s 3ms/step - loss: 0.5007 - accuracy: 0.7944 - val_loss: 0.4899 - val_accuracy: 0.8035\n",
            "Epoch 44/50\n",
            "250/250 [==============================] - 1s 4ms/step - loss: 0.5008 - accuracy: 0.7944 - val_loss: 0.4903 - val_accuracy: 0.8035\n",
            "Epoch 45/50\n",
            "250/250 [==============================] - 1s 3ms/step - loss: 0.5005 - accuracy: 0.7944 - val_loss: 0.4894 - val_accuracy: 0.8035\n",
            "Epoch 46/50\n",
            "250/250 [==============================] - 1s 3ms/step - loss: 0.5008 - accuracy: 0.7944 - val_loss: 0.4904 - val_accuracy: 0.8035\n",
            "Epoch 47/50\n",
            "250/250 [==============================] - 1s 2ms/step - loss: 0.5009 - accuracy: 0.7944 - val_loss: 0.4895 - val_accuracy: 0.8035\n",
            "Epoch 48/50\n",
            "250/250 [==============================] - 1s 2ms/step - loss: 0.5005 - accuracy: 0.7944 - val_loss: 0.4902 - val_accuracy: 0.8035\n",
            "Epoch 49/50\n",
            "250/250 [==============================] - 1s 3ms/step - loss: 0.5007 - accuracy: 0.7944 - val_loss: 0.4903 - val_accuracy: 0.8035\n",
            "Epoch 50/50\n",
            "250/250 [==============================] - 1s 2ms/step - loss: 0.5005 - accuracy: 0.7944 - val_loss: 0.4894 - val_accuracy: 0.8035\n"
          ]
        },
        {
          "output_type": "execute_result",
          "data": {
            "text/plain": [
              "<keras.src.callbacks.History at 0x785c511c6b00>"
            ]
          },
          "metadata": {},
          "execution_count": 16
        }
      ]
    },
    {
      "cell_type": "code",
      "source": [
        "y_pred_proba = model.predict(X_test)\n",
        "y_pred = (y_pred_proba > 0.5 ).astype(int)"
      ],
      "metadata": {
        "colab": {
          "base_uri": "https://localhost:8080/"
        },
        "id": "nmzBaisGlFuv",
        "outputId": "5871168d-ab46-4fe8-d44c-9d1b9f07f74b"
      },
      "execution_count": 17,
      "outputs": [
        {
          "output_type": "stream",
          "name": "stdout",
          "text": [
            "63/63 [==============================] - 0s 2ms/step\n"
          ]
        }
      ]
    },
    {
      "cell_type": "code",
      "source": [
        "accuracy = accuracy_score(y_test, y_pred)\n",
        "print(\"Accuracy :\" , accuracy)\n",
        "precision = precision_score(y_test, y_pred, average = 'weighted')\n",
        "print(\"Precision: \", precision)\n",
        "recall = recall_score(y_test, y_pred, average = 'weighted')\n",
        "print(\"Recall :\", recall)"
      ],
      "metadata": {
        "colab": {
          "base_uri": "https://localhost:8080/"
        },
        "id": "XHn5zOJ2lkVZ",
        "outputId": "253bc2be-4a29-4d2c-d180-ed4f8ce17b4e"
      },
      "execution_count": 18,
      "outputs": [
        {
          "output_type": "stream",
          "name": "stdout",
          "text": [
            "Accuracy : 0.8035\n",
            "Precision:  0.64561225\n",
            "Recall : 0.8035\n"
          ]
        },
        {
          "output_type": "stream",
          "name": "stderr",
          "text": [
            "/usr/local/lib/python3.10/dist-packages/sklearn/metrics/_classification.py:1344: UndefinedMetricWarning: Precision is ill-defined and being set to 0.0 in labels with no predicted samples. Use `zero_division` parameter to control this behavior.\n",
            "  _warn_prf(average, modifier, msg_start, len(result))\n"
          ]
        }
      ]
    },
    {
      "cell_type": "code",
      "source": [
        "f1 = f1_score(y_test, y_pred, average = 'weighted')\n",
        "print(\"F1 :\", f1)\n",
        "\n"
      ],
      "metadata": {
        "colab": {
          "base_uri": "https://localhost:8080/"
        },
        "id": "5UGGGheRmXjh",
        "outputId": "6fa8f682-b6ec-48fb-b4ce-70e4deced341"
      },
      "execution_count": 22,
      "outputs": [
        {
          "output_type": "stream",
          "name": "stdout",
          "text": [
            "F1 : 0.7159548100914886\n"
          ]
        }
      ]
    },
    {
      "cell_type": "code",
      "source": [
        "print(classification_report(y_test,y_pred))"
      ],
      "metadata": {
        "colab": {
          "base_uri": "https://localhost:8080/"
        },
        "id": "EORy1CCbnxha",
        "outputId": "ce93cd75-a95c-40a0-c0a8-5a56f87926ff"
      },
      "execution_count": 21,
      "outputs": [
        {
          "output_type": "stream",
          "name": "stdout",
          "text": [
            "              precision    recall  f1-score   support\n",
            "\n",
            "           0       0.80      1.00      0.89      1607\n",
            "           1       0.00      0.00      0.00       393\n",
            "\n",
            "    accuracy                           0.80      2000\n",
            "   macro avg       0.40      0.50      0.45      2000\n",
            "weighted avg       0.65      0.80      0.72      2000\n",
            "\n"
          ]
        },
        {
          "output_type": "stream",
          "name": "stderr",
          "text": [
            "/usr/local/lib/python3.10/dist-packages/sklearn/metrics/_classification.py:1344: UndefinedMetricWarning: Precision and F-score are ill-defined and being set to 0.0 in labels with no predicted samples. Use `zero_division` parameter to control this behavior.\n",
            "  _warn_prf(average, modifier, msg_start, len(result))\n",
            "/usr/local/lib/python3.10/dist-packages/sklearn/metrics/_classification.py:1344: UndefinedMetricWarning: Precision and F-score are ill-defined and being set to 0.0 in labels with no predicted samples. Use `zero_division` parameter to control this behavior.\n",
            "  _warn_prf(average, modifier, msg_start, len(result))\n",
            "/usr/local/lib/python3.10/dist-packages/sklearn/metrics/_classification.py:1344: UndefinedMetricWarning: Precision and F-score are ill-defined and being set to 0.0 in labels with no predicted samples. Use `zero_division` parameter to control this behavior.\n",
            "  _warn_prf(average, modifier, msg_start, len(result))\n"
          ]
        }
      ]
    }
  ]
}